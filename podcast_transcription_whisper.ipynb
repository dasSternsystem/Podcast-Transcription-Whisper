{
 "cells": [
  {
   "cell_type": "markdown",
   "id": "bed3a12e-aa0c-4cbc-96d1-372a38b04222",
   "metadata": {},
   "source": [
    "# Podcast transcription with Whisper\r\n",
    "\r\n",
    "This notebook demonstrates how to transcribe podcast or audio content into text using OpenAI’s Whisper model.  \r\n",
    "It also shows how to export the transcription to a `.txt` file for further use (e.g. Readlang, subtitles, text analysis).\r\n"
   ]
  },
  {
   "cell_type": "code",
   "execution_count": 9,
   "id": "1206356a-1245-422a-942f-482acf6f2623",
   "metadata": {},
   "outputs": [],
   "source": [
    "# Step 1: Set up FFmpeg path\n",
    "import os\n",
    "\n",
    "# Add FFmpeg to system PATH (adjust the path to your own installation)\n",
    "\n",
    "os.environ[\"PATH\"] = r\"D:\\FileHistory\\ffmpeg-master-latest-win64-gpl-shared\\bin;\" + os.environ[\"PATH\"]"
   ]
  },
  {
   "cell_type": "markdown",
   "id": "f652ee7b-47d4-4b10-8c01-afc8f9bf2639",
   "metadata": {},
   "source": [
    "## Load the Whisper Model\r\n",
    "\r\n",
    "Whisper is a general-purpose speech recognition model.  \r\n",
    "We use the \"base\" model here, which offers a good balance of speed and accuracy.\r\n"
   ]
  },
  {
   "cell_type": "code",
   "execution_count": 7,
   "id": "b452d6bb-ab52-48ac-9512-498bca1af985",
   "metadata": {},
   "outputs": [
    {
     "name": "stdout",
     "output_type": "stream",
     "text": [
      "Loading model...\n",
      "Model loaded successfully.\n"
     ]
    }
   ],
   "source": [
    "# Step 2: Import Whisper and load the model\n",
    "import whisper\n",
    "\n",
    "print(\"Loading model...\")\n",
    "model = whisper.load_model(\"base\")\n",
    "print(\"Model loaded successfully.\")\n"
   ]
  },
  {
   "cell_type": "markdown",
   "id": "6a013fd8-1c8b-456b-af64-1623ee9a8807",
   "metadata": {},
   "source": [
    "## Transcribe the Audio File\r\n",
    "\r\n",
    "Whisper will automatically detect the language and transcribe speech to text.\r\n",
    "Make sure your audio file is in `.mp3`, `.wav`, or similar format.\r\n"
   ]
  },
  {
   "cell_type": "code",
   "execution_count": null,
   "id": "8c753a06-8012-44a0-88bd-9d44a0d5b55a",
   "metadata": {},
   "outputs": [],
   "source": [
    "# Step 3: Transcribe the audio file (adjust the path to your file)\n",
    "audio_path = r\"D:\\FileHistory\\Trump vs. China.mp3\"\n",
    "print(f\"Transcribing {audio_path}...\")\n",
    "\n",
    "result = model.transcribe(audio_path)\n",
    "\n",
    "# Display the transcription in the notebook\n",
    "print(\"\\n Transcription:\\n\")\n",
    "print(result[\"text\"])\n"
   ]
  },
  {
   "cell_type": "markdown",
   "id": "83e3fae7-535c-43c3-9250-924a673978e7",
   "metadata": {},
   "source": []
  },
  {
   "cell_type": "code",
   "execution_count": 11,
   "id": "2b626e50-8c26-45b0-9637-e385cc650bc2",
   "metadata": {},
   "outputs": [
    {
     "name": "stdout",
     "output_type": "stream",
     "text": [
      "Transcript saved as transcript.txt\n"
     ]
    }
   ],
   "source": [
    "# Step 4: Export transcript to a text file\n",
    "with open(\"transcript.txt\", \"w\", encoding=\"utf-8\") as f:\n",
    "    f.write(result[\"text\"])\n",
    "\n",
    "print(\"Transcript saved as transcript.txt\")\n"
   ]
  },
  {
   "cell_type": "code",
   "execution_count": null,
   "id": "48e88f9c-bbce-44f3-8543-b773514aebef",
   "metadata": {},
   "outputs": [],
   "source": []
  }
 ],
 "metadata": {
  "kernelspec": {
   "display_name": "Python (Whisper)",
   "language": "python",
   "name": "whisper_env"
  },
  "language_info": {
   "codemirror_mode": {
    "name": "ipython",
    "version": 3
   },
   "file_extension": ".py",
   "mimetype": "text/x-python",
   "name": "python",
   "nbconvert_exporter": "python",
   "pygments_lexer": "ipython3",
   "version": "3.11.7"
  }
 },
 "nbformat": 4,
 "nbformat_minor": 5
}
